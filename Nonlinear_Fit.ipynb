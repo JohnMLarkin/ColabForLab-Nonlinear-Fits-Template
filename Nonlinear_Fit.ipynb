{
  "nbformat": 4,
  "nbformat_minor": 0,
  "metadata": {
    "colab": {
      "name": "Nonlinear Fit.ipynb",
      "provenance": [],
      "authorship_tag": "ABX9TyNLE0/yhEZ1wR4QATlnrjNV"
    },
    "kernelspec": {
      "name": "python3",
      "display_name": "Python 3"
    }
  },
  "cells": [
    {
      "cell_type": "markdown",
      "metadata": {
        "id": "aw1Xidyc7zGg"
      },
      "source": [
        "# Install and import libraries"
      ]
    },
    {
      "cell_type": "code",
      "metadata": {
        "id": "4q9SoA0M7xh6"
      },
      "source": [
        "!pip install whit-phys-util"
      ],
      "execution_count": null,
      "outputs": []
    },
    {
      "cell_type": "code",
      "metadata": {
        "id": "MEt9hFw677Kq"
      },
      "source": [
        "import numpy as np\r\n",
        "import pandas as pd\r\n",
        "import matplotlib.pyplot as plt\r\n",
        "import whit_phys_util as buc"
      ],
      "execution_count": null,
      "outputs": []
    },
    {
      "cell_type": "code",
      "metadata": {
        "id": "lwO5Gyk479Lc"
      },
      "source": [
        "from numpy import exp, cos\r\n",
        "from scipy.optimize import curve_fit"
      ],
      "execution_count": null,
      "outputs": []
    },
    {
      "cell_type": "markdown",
      "metadata": {
        "id": "bq7u2cd_7_WP"
      },
      "source": [
        "# Connect to GitHub repository"
      ]
    },
    {
      "cell_type": "code",
      "metadata": {
        "id": "GN1XFc_g8Bp4"
      },
      "source": [
        "repo = buc.local_repository(\"replace me\")"
      ],
      "execution_count": null,
      "outputs": []
    },
    {
      "cell_type": "markdown",
      "metadata": {
        "id": "SygyyLKa8Kk7"
      },
      "source": [
        "# Dampled oscillation model\r\n",
        "\r\n",
        "$$a(t) = A e^{-b t} \\cos(\\omega t + \\phi_0)$$"
      ]
    },
    {
      "cell_type": "code",
      "metadata": {
        "id": "dWuUv8858QVq"
      },
      "source": [
        ""
      ],
      "execution_count": null,
      "outputs": []
    },
    {
      "cell_type": "markdown",
      "metadata": {
        "id": "9CisLlzV8UA-"
      },
      "source": [
        "# Data analysis"
      ]
    },
    {
      "cell_type": "code",
      "metadata": {
        "id": "B0evhKBh8V-a"
      },
      "source": [
        ""
      ],
      "execution_count": null,
      "outputs": []
    }
  ]
}